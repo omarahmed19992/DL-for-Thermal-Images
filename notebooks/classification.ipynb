{
  "cells": [
    {
      "cell_type": "code",
      "execution_count": null,
      "metadata": {
        "id": "OF8nyRe3mOsP"
      },
      "outputs": [],
      "source": [
        "import pandas as pd\n",
        "import numpy as np\n",
        "import seaborn as sns\n",
        "import matplotlib.pyplot as plt\n",
        "import cv2\n",
        "import tensorflow as tf\n",
        "from tensorflow import keras\n",
        "from tensorflow.python.keras import Sequential\n",
        "from tensorflow.keras import layers, optimizers\n",
        "from tensorflow.keras.preprocessing.image import ImageDataGenerator\n",
        "from tensorflow.keras.layers import *\n",
        "from tensorflow.keras.models import Model, load_model\n",
        "from tensorflow.keras.utils import plot_model\n",
        "from IPython.display import display\n",
        "from IPython.display import Image\n",
        "from tensorflow.keras.preprocessing import image\n",
        "import os\n",
        "import glob\n",
        "import random"
      ]
    },
    {
      "cell_type": "code",
      "execution_count": null,
      "metadata": {
        "colab": {
          "base_uri": "https://localhost:8080/"
        },
        "id": "L6D327Nnyzsp",
        "outputId": "22c66e01-cd82-45ff-c1cc-71b035f840e3"
      },
      "outputs": [
        {
          "output_type": "stream",
          "name": "stdout",
          "text": [
            "/content/drive/MyDrive/Colab Notebooks/New folder (2)\n"
          ]
        }
      ],
      "source": [
        "%cd '/content/drive/MyDrive/Colab Notebooks/New folder (2)/'"
      ]
    },
    {
      "cell_type": "code",
      "execution_count": null,
      "metadata": {
        "id": "cu1EnnuimU9O"
      },
      "outputs": [],
      "source": [
        "train_dir = '/content/drive/MyDrive/Colab Notebooks/New folder (2)/thermal_DS/train'\n",
        "valid_dir = '/content/drive/MyDrive/Colab Notebooks/New folder (2)/thermal_DS/val'\n",
        "test_dir = '/content/drive/MyDrive/Colab Notebooks/New folder (2)/thermal_DS/test'\n",
        "batch_size = 4\n"
      ]
    },
    {
      "cell_type": "code",
      "execution_count": null,
      "metadata": {
        "id": "ic6Iv-oFmVLG"
      },
      "outputs": [],
      "source": [
        "img_h = 224\n",
        "img_w = 224"
      ]
    },
    {
      "cell_type": "code",
      "execution_count": null,
      "metadata": {
        "colab": {
          "base_uri": "https://localhost:8080/"
        },
        "id": "LOusLRC_mVPD",
        "outputId": "c190b016-2bb7-4b28-bef0-8749d824c4ac"
      },
      "outputs": [
        {
          "output_type": "stream",
          "name": "stdout",
          "text": [
            "Found 112 images belonging to 3 classes.\n",
            "Found 56 images belonging to 3 classes.\n"
          ]
        }
      ],
      "source": [
        "train_datagen = ImageDataGenerator(\n",
        "      rescale=1./255)\n",
        "\n",
        "# Note that the validation data should not be augmented!\n",
        "test_datagen = ImageDataGenerator(rescale=1./255)\n",
        "\n",
        "train_generator = train_datagen.flow_from_directory(\n",
        "        # This is the target directory\n",
        "        train_dir,\n",
        "        # All images will be resized to target height and width.\n",
        "        target_size=(img_h, img_w),\n",
        "        batch_size=batch_size,\n",
        "        # Since we use categorical_crossentropy loss, we need categorical labels\n",
        "        class_mode='categorical')\n",
        "\n",
        "validation_generator = test_datagen.flow_from_directory(\n",
        "        valid_dir,\n",
        "        target_size=(img_h, img_w),\n",
        "        batch_size=batch_size,\n",
        "        class_mode='categorical')\n"
      ]
    },
    {
      "cell_type": "code",
      "execution_count": null,
      "metadata": {
        "colab": {
          "base_uri": "https://localhost:8080/"
        },
        "id": "vYaRW40JmVTf",
        "outputId": "5720148e-366b-48d6-b6dc-b02d07b136f9"
      },
      "outputs": [
        {
          "output_type": "execute_result",
          "data": {
            "text/plain": [
              "{'continous': 0, 'more': 1, 'one': 2}"
            ]
          },
          "metadata": {},
          "execution_count": 6
        }
      ],
      "source": [
        "train_generator.class_indices"
      ]
    },
    {
      "cell_type": "code",
      "execution_count": null,
      "metadata": {
        "id": "EcV7Xd4BnFJv"
      },
      "outputs": [],
      "source": [
        "train_dir = '/content/drive/MyDrive/Colab Notebooks/New folder (2)/thermal_DS/train'\n",
        "train_imgs = []\n",
        "for path, subdirs, files in os.walk(train_dir):\n",
        "    for name in files:\n",
        "        train_imgs.append(os.path.join(path, name))"
      ]
    },
    {
      "cell_type": "code",
      "execution_count": null,
      "metadata": {
        "colab": {
          "base_uri": "https://localhost:8080/"
        },
        "id": "vOAm-by-nRqb",
        "outputId": "0d8a6185-1094-41c2-f89a-340def2b0472"
      },
      "outputs": [
        {
          "output_type": "execute_result",
          "data": {
            "text/plain": [
              "['/content/drive/MyDrive/Colab Notebooks/New folder (2)/thermal_DS/train/more/29.png',\n",
              " '/content/drive/MyDrive/Colab Notebooks/New folder (2)/thermal_DS/train/more/30.png',\n",
              " '/content/drive/MyDrive/Colab Notebooks/New folder (2)/thermal_DS/train/more/31.png',\n",
              " '/content/drive/MyDrive/Colab Notebooks/New folder (2)/thermal_DS/train/more/32.png',\n",
              " '/content/drive/MyDrive/Colab Notebooks/New folder (2)/thermal_DS/train/more/33.png',\n",
              " '/content/drive/MyDrive/Colab Notebooks/New folder (2)/thermal_DS/train/more/34.png',\n",
              " '/content/drive/MyDrive/Colab Notebooks/New folder (2)/thermal_DS/train/more/35.png',\n",
              " '/content/drive/MyDrive/Colab Notebooks/New folder (2)/thermal_DS/train/more/36.png',\n",
              " '/content/drive/MyDrive/Colab Notebooks/New folder (2)/thermal_DS/train/more/37.png',\n",
              " '/content/drive/MyDrive/Colab Notebooks/New folder (2)/thermal_DS/train/more/38.png',\n",
              " '/content/drive/MyDrive/Colab Notebooks/New folder (2)/thermal_DS/train/more/39.png',\n",
              " '/content/drive/MyDrive/Colab Notebooks/New folder (2)/thermal_DS/train/more/40.png',\n",
              " '/content/drive/MyDrive/Colab Notebooks/New folder (2)/thermal_DS/train/more/41.png',\n",
              " '/content/drive/MyDrive/Colab Notebooks/New folder (2)/thermal_DS/train/more/42.png',\n",
              " '/content/drive/MyDrive/Colab Notebooks/New folder (2)/thermal_DS/train/more/43.png',\n",
              " '/content/drive/MyDrive/Colab Notebooks/New folder (2)/thermal_DS/train/more/44.png',\n",
              " '/content/drive/MyDrive/Colab Notebooks/New folder (2)/thermal_DS/train/more/45.png',\n",
              " '/content/drive/MyDrive/Colab Notebooks/New folder (2)/thermal_DS/train/more/46.png',\n",
              " '/content/drive/MyDrive/Colab Notebooks/New folder (2)/thermal_DS/train/more/47.png',\n",
              " '/content/drive/MyDrive/Colab Notebooks/New folder (2)/thermal_DS/train/more/48.png',\n",
              " '/content/drive/MyDrive/Colab Notebooks/New folder (2)/thermal_DS/train/more/49.png',\n",
              " '/content/drive/MyDrive/Colab Notebooks/New folder (2)/thermal_DS/train/more/50.png',\n",
              " '/content/drive/MyDrive/Colab Notebooks/New folder (2)/thermal_DS/train/more/51.png',\n",
              " '/content/drive/MyDrive/Colab Notebooks/New folder (2)/thermal_DS/train/more/52.png',\n",
              " '/content/drive/MyDrive/Colab Notebooks/New folder (2)/thermal_DS/train/more/53.png',\n",
              " '/content/drive/MyDrive/Colab Notebooks/New folder (2)/thermal_DS/train/more/54.png',\n",
              " '/content/drive/MyDrive/Colab Notebooks/New folder (2)/thermal_DS/train/more/55.png',\n",
              " '/content/drive/MyDrive/Colab Notebooks/New folder (2)/thermal_DS/train/more/56.png',\n",
              " '/content/drive/MyDrive/Colab Notebooks/New folder (2)/thermal_DS/train/more/57.png',\n",
              " '/content/drive/MyDrive/Colab Notebooks/New folder (2)/thermal_DS/train/more/58.png',\n",
              " '/content/drive/MyDrive/Colab Notebooks/New folder (2)/thermal_DS/train/more/59.png',\n",
              " '/content/drive/MyDrive/Colab Notebooks/New folder (2)/thermal_DS/train/more/60.png',\n",
              " '/content/drive/MyDrive/Colab Notebooks/New folder (2)/thermal_DS/train/more/61.png',\n",
              " '/content/drive/MyDrive/Colab Notebooks/New folder (2)/thermal_DS/train/more/62.png',\n",
              " '/content/drive/MyDrive/Colab Notebooks/New folder (2)/thermal_DS/train/more/63.png',\n",
              " '/content/drive/MyDrive/Colab Notebooks/New folder (2)/thermal_DS/train/more/64.png',\n",
              " '/content/drive/MyDrive/Colab Notebooks/New folder (2)/thermal_DS/train/more/65.png',\n",
              " '/content/drive/MyDrive/Colab Notebooks/New folder (2)/thermal_DS/train/more/66.png',\n",
              " '/content/drive/MyDrive/Colab Notebooks/New folder (2)/thermal_DS/train/more/67.png',\n",
              " '/content/drive/MyDrive/Colab Notebooks/New folder (2)/thermal_DS/train/one/68.png',\n",
              " '/content/drive/MyDrive/Colab Notebooks/New folder (2)/thermal_DS/train/one/69.png',\n",
              " '/content/drive/MyDrive/Colab Notebooks/New folder (2)/thermal_DS/train/one/70.png',\n",
              " '/content/drive/MyDrive/Colab Notebooks/New folder (2)/thermal_DS/train/one/71.png',\n",
              " '/content/drive/MyDrive/Colab Notebooks/New folder (2)/thermal_DS/train/one/72.png',\n",
              " '/content/drive/MyDrive/Colab Notebooks/New folder (2)/thermal_DS/train/one/73.png',\n",
              " '/content/drive/MyDrive/Colab Notebooks/New folder (2)/thermal_DS/train/one/74.png',\n",
              " '/content/drive/MyDrive/Colab Notebooks/New folder (2)/thermal_DS/train/one/75.png',\n",
              " '/content/drive/MyDrive/Colab Notebooks/New folder (2)/thermal_DS/train/one/76.png',\n",
              " '/content/drive/MyDrive/Colab Notebooks/New folder (2)/thermal_DS/train/one/77.png',\n",
              " '/content/drive/MyDrive/Colab Notebooks/New folder (2)/thermal_DS/train/one/78.png',\n",
              " '/content/drive/MyDrive/Colab Notebooks/New folder (2)/thermal_DS/train/one/79.png',\n",
              " '/content/drive/MyDrive/Colab Notebooks/New folder (2)/thermal_DS/train/one/80.png',\n",
              " '/content/drive/MyDrive/Colab Notebooks/New folder (2)/thermal_DS/train/one/81.png',\n",
              " '/content/drive/MyDrive/Colab Notebooks/New folder (2)/thermal_DS/train/one/82.png',\n",
              " '/content/drive/MyDrive/Colab Notebooks/New folder (2)/thermal_DS/train/one/83.png',\n",
              " '/content/drive/MyDrive/Colab Notebooks/New folder (2)/thermal_DS/train/one/84.png',\n",
              " '/content/drive/MyDrive/Colab Notebooks/New folder (2)/thermal_DS/train/one/85.png',\n",
              " '/content/drive/MyDrive/Colab Notebooks/New folder (2)/thermal_DS/train/one/86.png',\n",
              " '/content/drive/MyDrive/Colab Notebooks/New folder (2)/thermal_DS/train/one/87.png',\n",
              " '/content/drive/MyDrive/Colab Notebooks/New folder (2)/thermal_DS/train/one/88.png',\n",
              " '/content/drive/MyDrive/Colab Notebooks/New folder (2)/thermal_DS/train/one/89.png',\n",
              " '/content/drive/MyDrive/Colab Notebooks/New folder (2)/thermal_DS/train/one/90.png',\n",
              " '/content/drive/MyDrive/Colab Notebooks/New folder (2)/thermal_DS/train/one/91.png',\n",
              " '/content/drive/MyDrive/Colab Notebooks/New folder (2)/thermal_DS/train/one/92.png',\n",
              " '/content/drive/MyDrive/Colab Notebooks/New folder (2)/thermal_DS/train/one/93.png',\n",
              " '/content/drive/MyDrive/Colab Notebooks/New folder (2)/thermal_DS/train/one/94.png',\n",
              " '/content/drive/MyDrive/Colab Notebooks/New folder (2)/thermal_DS/train/one/95.png',\n",
              " '/content/drive/MyDrive/Colab Notebooks/New folder (2)/thermal_DS/train/one/96.png',\n",
              " '/content/drive/MyDrive/Colab Notebooks/New folder (2)/thermal_DS/train/one/97.png',\n",
              " '/content/drive/MyDrive/Colab Notebooks/New folder (2)/thermal_DS/train/one/98.png',\n",
              " '/content/drive/MyDrive/Colab Notebooks/New folder (2)/thermal_DS/train/one/99.png',\n",
              " '/content/drive/MyDrive/Colab Notebooks/New folder (2)/thermal_DS/train/one/100.png',\n",
              " '/content/drive/MyDrive/Colab Notebooks/New folder (2)/thermal_DS/train/one/101.png',\n",
              " '/content/drive/MyDrive/Colab Notebooks/New folder (2)/thermal_DS/train/one/102.png',\n",
              " '/content/drive/MyDrive/Colab Notebooks/New folder (2)/thermal_DS/train/one/103.png',\n",
              " '/content/drive/MyDrive/Colab Notebooks/New folder (2)/thermal_DS/train/one/104.png',\n",
              " '/content/drive/MyDrive/Colab Notebooks/New folder (2)/thermal_DS/train/one/105.png',\n",
              " '/content/drive/MyDrive/Colab Notebooks/New folder (2)/thermal_DS/train/one/106.png',\n",
              " '/content/drive/MyDrive/Colab Notebooks/New folder (2)/thermal_DS/train/one/107.png',\n",
              " '/content/drive/MyDrive/Colab Notebooks/New folder (2)/thermal_DS/train/one/108.png',\n",
              " '/content/drive/MyDrive/Colab Notebooks/New folder (2)/thermal_DS/train/one/109.png',\n",
              " '/content/drive/MyDrive/Colab Notebooks/New folder (2)/thermal_DS/train/one/110.png',\n",
              " '/content/drive/MyDrive/Colab Notebooks/New folder (2)/thermal_DS/train/one/111.png',\n",
              " '/content/drive/MyDrive/Colab Notebooks/New folder (2)/thermal_DS/train/one/112.png',\n",
              " '/content/drive/MyDrive/Colab Notebooks/New folder (2)/thermal_DS/train/continous/1.png',\n",
              " '/content/drive/MyDrive/Colab Notebooks/New folder (2)/thermal_DS/train/continous/2.png',\n",
              " '/content/drive/MyDrive/Colab Notebooks/New folder (2)/thermal_DS/train/continous/3.png',\n",
              " '/content/drive/MyDrive/Colab Notebooks/New folder (2)/thermal_DS/train/continous/4.png',\n",
              " '/content/drive/MyDrive/Colab Notebooks/New folder (2)/thermal_DS/train/continous/5.png',\n",
              " '/content/drive/MyDrive/Colab Notebooks/New folder (2)/thermal_DS/train/continous/6.png',\n",
              " '/content/drive/MyDrive/Colab Notebooks/New folder (2)/thermal_DS/train/continous/7.png',\n",
              " '/content/drive/MyDrive/Colab Notebooks/New folder (2)/thermal_DS/train/continous/8.png',\n",
              " '/content/drive/MyDrive/Colab Notebooks/New folder (2)/thermal_DS/train/continous/9.png',\n",
              " '/content/drive/MyDrive/Colab Notebooks/New folder (2)/thermal_DS/train/continous/10.png',\n",
              " '/content/drive/MyDrive/Colab Notebooks/New folder (2)/thermal_DS/train/continous/11.png',\n",
              " '/content/drive/MyDrive/Colab Notebooks/New folder (2)/thermal_DS/train/continous/12.png',\n",
              " '/content/drive/MyDrive/Colab Notebooks/New folder (2)/thermal_DS/train/continous/13.png',\n",
              " '/content/drive/MyDrive/Colab Notebooks/New folder (2)/thermal_DS/train/continous/14.png',\n",
              " '/content/drive/MyDrive/Colab Notebooks/New folder (2)/thermal_DS/train/continous/15.png',\n",
              " '/content/drive/MyDrive/Colab Notebooks/New folder (2)/thermal_DS/train/continous/16.png',\n",
              " '/content/drive/MyDrive/Colab Notebooks/New folder (2)/thermal_DS/train/continous/17.png',\n",
              " '/content/drive/MyDrive/Colab Notebooks/New folder (2)/thermal_DS/train/continous/18.png',\n",
              " '/content/drive/MyDrive/Colab Notebooks/New folder (2)/thermal_DS/train/continous/19.png',\n",
              " '/content/drive/MyDrive/Colab Notebooks/New folder (2)/thermal_DS/train/continous/20.png',\n",
              " '/content/drive/MyDrive/Colab Notebooks/New folder (2)/thermal_DS/train/continous/21.png',\n",
              " '/content/drive/MyDrive/Colab Notebooks/New folder (2)/thermal_DS/train/continous/22.png',\n",
              " '/content/drive/MyDrive/Colab Notebooks/New folder (2)/thermal_DS/train/continous/23.png',\n",
              " '/content/drive/MyDrive/Colab Notebooks/New folder (2)/thermal_DS/train/continous/24.png',\n",
              " '/content/drive/MyDrive/Colab Notebooks/New folder (2)/thermal_DS/train/continous/25.png',\n",
              " '/content/drive/MyDrive/Colab Notebooks/New folder (2)/thermal_DS/train/continous/26.png',\n",
              " '/content/drive/MyDrive/Colab Notebooks/New folder (2)/thermal_DS/train/continous/27.png',\n",
              " '/content/drive/MyDrive/Colab Notebooks/New folder (2)/thermal_DS/train/continous/28.png']"
            ]
          },
          "metadata": {},
          "execution_count": 8
        }
      ],
      "source": [
        "train_imgs"
      ]
    },
    {
      "cell_type": "code",
      "execution_count": null,
      "metadata": {
        "colab": {
          "base_uri": "https://localhost:8080/"
        },
        "id": "JKW4NN4NnFGG",
        "outputId": "7492475f-097c-4b09-a6aa-95f14abf9b40"
      },
      "outputs": [
        {
          "output_type": "stream",
          "name": "stdout",
          "text": [
            "Looking in indexes: https://pypi.org/simple, https://us-python.pkg.dev/colab-wheels/public/simple/\n",
            "Collecting efficientnet\n",
            "  Downloading efficientnet-1.1.1-py3-none-any.whl (18 kB)\n",
            "Collecting keras-applications<=1.0.8,>=1.0.7\n",
            "  Downloading Keras_Applications-1.0.8-py3-none-any.whl (50 kB)\n",
            "\u001b[2K     \u001b[90m━━━━━━━━━━━━━━━━━━━━━━━━━━━━━━━━━━━━━━━━\u001b[0m \u001b[32m50.7/50.7 KB\u001b[0m \u001b[31m4.0 MB/s\u001b[0m eta \u001b[36m0:00:00\u001b[0m\n",
            "\u001b[?25hRequirement already satisfied: scikit-image in /usr/local/lib/python3.8/dist-packages (from efficientnet) (0.18.3)\n",
            "Requirement already satisfied: numpy>=1.9.1 in /usr/local/lib/python3.8/dist-packages (from keras-applications<=1.0.8,>=1.0.7->efficientnet) (1.21.6)\n",
            "Requirement already satisfied: h5py in /usr/local/lib/python3.8/dist-packages (from keras-applications<=1.0.8,>=1.0.7->efficientnet) (3.1.0)\n",
            "Requirement already satisfied: pillow!=7.1.0,!=7.1.1,>=4.3.0 in /usr/local/lib/python3.8/dist-packages (from scikit-image->efficientnet) (7.1.2)\n",
            "Requirement already satisfied: scipy>=1.0.1 in /usr/local/lib/python3.8/dist-packages (from scikit-image->efficientnet) (1.7.3)\n",
            "Requirement already satisfied: PyWavelets>=1.1.1 in /usr/local/lib/python3.8/dist-packages (from scikit-image->efficientnet) (1.4.1)\n",
            "Requirement already satisfied: imageio>=2.3.0 in /usr/local/lib/python3.8/dist-packages (from scikit-image->efficientnet) (2.9.0)\n",
            "Requirement already satisfied: tifffile>=2019.7.26 in /usr/local/lib/python3.8/dist-packages (from scikit-image->efficientnet) (2022.10.10)\n",
            "Requirement already satisfied: matplotlib!=3.0.0,>=2.0.0 in /usr/local/lib/python3.8/dist-packages (from scikit-image->efficientnet) (3.2.2)\n",
            "Requirement already satisfied: networkx>=2.0 in /usr/local/lib/python3.8/dist-packages (from scikit-image->efficientnet) (2.8.8)\n",
            "Requirement already satisfied: kiwisolver>=1.0.1 in /usr/local/lib/python3.8/dist-packages (from matplotlib!=3.0.0,>=2.0.0->scikit-image->efficientnet) (1.4.4)\n",
            "Requirement already satisfied: python-dateutil>=2.1 in /usr/local/lib/python3.8/dist-packages (from matplotlib!=3.0.0,>=2.0.0->scikit-image->efficientnet) (2.8.2)\n",
            "Requirement already satisfied: pyparsing!=2.0.4,!=2.1.2,!=2.1.6,>=2.0.1 in /usr/local/lib/python3.8/dist-packages (from matplotlib!=3.0.0,>=2.0.0->scikit-image->efficientnet) (3.0.9)\n",
            "Requirement already satisfied: cycler>=0.10 in /usr/local/lib/python3.8/dist-packages (from matplotlib!=3.0.0,>=2.0.0->scikit-image->efficientnet) (0.11.0)\n",
            "Requirement already satisfied: six>=1.5 in /usr/local/lib/python3.8/dist-packages (from python-dateutil>=2.1->matplotlib!=3.0.0,>=2.0.0->scikit-image->efficientnet) (1.15.0)\n",
            "Installing collected packages: keras-applications, efficientnet\n",
            "Successfully installed efficientnet-1.1.1 keras-applications-1.0.8\n"
          ]
        }
      ],
      "source": [
        "!pip install -U efficientnet"
      ]
    },
    {
      "cell_type": "code",
      "execution_count": null,
      "metadata": {
        "id": "kRTACIHKnWk7"
      },
      "outputs": [],
      "source": [
        "import efficientnet.tfkeras as efn\n",
        "base_model = efn.EfficientNetB0(\n",
        "    weights = 'imagenet',\n",
        "    input_shape = (224,224,3),\n",
        "    include_top = False,\n",
        "    pooling = 'avg'\n",
        ")"
      ]
    },
    {
      "cell_type": "code",
      "execution_count": null,
      "metadata": {
        "id": "OND3vbcund0Z"
      },
      "outputs": [],
      "source": [
        "base_model.trainable = False"
      ]
    },
    {
      "cell_type": "code",
      "execution_count": null,
      "metadata": {
        "colab": {
          "base_uri": "https://localhost:8080/"
        },
        "id": "5LgafYUine9i",
        "outputId": "c3b769d6-356d-4dad-fcc4-71aa54971f2d"
      },
      "outputs": [
        {
          "output_type": "stream",
          "name": "stdout",
          "text": [
            "Model: \"efficientnet-b0\"\n",
            "__________________________________________________________________________________________________\n",
            " Layer (type)                   Output Shape         Param #     Connected to                     \n",
            "==================================================================================================\n",
            " input_2 (InputLayer)           [(None, 224, 224, 3  0           []                               \n",
            "                                )]                                                                \n",
            "                                                                                                  \n",
            " stem_conv (Conv2D)             (None, 112, 112, 32  864         ['input_2[0][0]']                \n",
            "                                )                                                                 \n",
            "                                                                                                  \n",
            " stem_bn (BatchNormalization)   (None, 112, 112, 32  128         ['stem_conv[0][0]']              \n",
            "                                )                                                                 \n",
            "                                                                                                  \n",
            " stem_activation (Activation)   (None, 112, 112, 32  0           ['stem_bn[0][0]']                \n",
            "                                )                                                                 \n",
            "                                                                                                  \n",
            " block1a_dwconv (DepthwiseConv2  (None, 112, 112, 32  288        ['stem_activation[0][0]']        \n",
            " D)                             )                                                                 \n",
            "                                                                                                  \n",
            " block1a_bn (BatchNormalization  (None, 112, 112, 32  128        ['block1a_dwconv[0][0]']         \n",
            " )                              )                                                                 \n",
            "                                                                                                  \n",
            " block1a_activation (Activation  (None, 112, 112, 32  0          ['block1a_bn[0][0]']             \n",
            " )                              )                                                                 \n",
            "                                                                                                  \n",
            " block1a_se_squeeze (GlobalAver  (None, 32)          0           ['block1a_activation[0][0]']     \n",
            " agePooling2D)                                                                                    \n",
            "                                                                                                  \n",
            " block1a_se_reshape (Reshape)   (None, 1, 1, 32)     0           ['block1a_se_squeeze[0][0]']     \n",
            "                                                                                                  \n",
            " block1a_se_reduce (Conv2D)     (None, 1, 1, 8)      264         ['block1a_se_reshape[0][0]']     \n",
            "                                                                                                  \n",
            " block1a_se_expand (Conv2D)     (None, 1, 1, 32)     288         ['block1a_se_reduce[0][0]']      \n",
            "                                                                                                  \n",
            " block1a_se_excite (Multiply)   (None, 112, 112, 32  0           ['block1a_activation[0][0]',     \n",
            "                                )                                 'block1a_se_expand[0][0]']      \n",
            "                                                                                                  \n",
            " block1a_project_conv (Conv2D)  (None, 112, 112, 16  512         ['block1a_se_excite[0][0]']      \n",
            "                                )                                                                 \n",
            "                                                                                                  \n",
            " block1a_project_bn (BatchNorma  (None, 112, 112, 16  64         ['block1a_project_conv[0][0]']   \n",
            " lization)                      )                                                                 \n",
            "                                                                                                  \n",
            " block2a_expand_conv (Conv2D)   (None, 112, 112, 96  1536        ['block1a_project_bn[0][0]']     \n",
            "                                )                                                                 \n",
            "                                                                                                  \n",
            " block2a_expand_bn (BatchNormal  (None, 112, 112, 96  384        ['block2a_expand_conv[0][0]']    \n",
            " ization)                       )                                                                 \n",
            "                                                                                                  \n",
            " block2a_expand_activation (Act  (None, 112, 112, 96  0          ['block2a_expand_bn[0][0]']      \n",
            " ivation)                       )                                                                 \n",
            "                                                                                                  \n",
            " block2a_dwconv (DepthwiseConv2  (None, 56, 56, 96)  864         ['block2a_expand_activation[0][0]\n",
            " D)                                                              ']                               \n",
            "                                                                                                  \n",
            " block2a_bn (BatchNormalization  (None, 56, 56, 96)  384         ['block2a_dwconv[0][0]']         \n",
            " )                                                                                                \n",
            "                                                                                                  \n",
            " block2a_activation (Activation  (None, 56, 56, 96)  0           ['block2a_bn[0][0]']             \n",
            " )                                                                                                \n",
            "                                                                                                  \n",
            " block2a_se_squeeze (GlobalAver  (None, 96)          0           ['block2a_activation[0][0]']     \n",
            " agePooling2D)                                                                                    \n",
            "                                                                                                  \n",
            " block2a_se_reshape (Reshape)   (None, 1, 1, 96)     0           ['block2a_se_squeeze[0][0]']     \n",
            "                                                                                                  \n",
            " block2a_se_reduce (Conv2D)     (None, 1, 1, 4)      388         ['block2a_se_reshape[0][0]']     \n",
            "                                                                                                  \n",
            " block2a_se_expand (Conv2D)     (None, 1, 1, 96)     480         ['block2a_se_reduce[0][0]']      \n",
            "                                                                                                  \n",
            " block2a_se_excite (Multiply)   (None, 56, 56, 96)   0           ['block2a_activation[0][0]',     \n",
            "                                                                  'block2a_se_expand[0][0]']      \n",
            "                                                                                                  \n",
            " block2a_project_conv (Conv2D)  (None, 56, 56, 24)   2304        ['block2a_se_excite[0][0]']      \n",
            "                                                                                                  \n",
            " block2a_project_bn (BatchNorma  (None, 56, 56, 24)  96          ['block2a_project_conv[0][0]']   \n",
            " lization)                                                                                        \n",
            "                                                                                                  \n",
            " block2b_expand_conv (Conv2D)   (None, 56, 56, 144)  3456        ['block2a_project_bn[0][0]']     \n",
            "                                                                                                  \n",
            " block2b_expand_bn (BatchNormal  (None, 56, 56, 144)  576        ['block2b_expand_conv[0][0]']    \n",
            " ization)                                                                                         \n",
            "                                                                                                  \n",
            " block2b_expand_activation (Act  (None, 56, 56, 144)  0          ['block2b_expand_bn[0][0]']      \n",
            " ivation)                                                                                         \n",
            "                                                                                                  \n",
            " block2b_dwconv (DepthwiseConv2  (None, 56, 56, 144)  1296       ['block2b_expand_activation[0][0]\n",
            " D)                                                              ']                               \n",
            "                                                                                                  \n",
            " block2b_bn (BatchNormalization  (None, 56, 56, 144)  576        ['block2b_dwconv[0][0]']         \n",
            " )                                                                                                \n",
            "                                                                                                  \n",
            " block2b_activation (Activation  (None, 56, 56, 144)  0          ['block2b_bn[0][0]']             \n",
            " )                                                                                                \n",
            "                                                                                                  \n",
            " block2b_se_squeeze (GlobalAver  (None, 144)         0           ['block2b_activation[0][0]']     \n",
            " agePooling2D)                                                                                    \n",
            "                                                                                                  \n",
            " block2b_se_reshape (Reshape)   (None, 1, 1, 144)    0           ['block2b_se_squeeze[0][0]']     \n",
            "                                                                                                  \n",
            " block2b_se_reduce (Conv2D)     (None, 1, 1, 6)      870         ['block2b_se_reshape[0][0]']     \n",
            "                                                                                                  \n",
            " block2b_se_expand (Conv2D)     (None, 1, 1, 144)    1008        ['block2b_se_reduce[0][0]']      \n",
            "                                                                                                  \n",
            " block2b_se_excite (Multiply)   (None, 56, 56, 144)  0           ['block2b_activation[0][0]',     \n",
            "                                                                  'block2b_se_expand[0][0]']      \n",
            "                                                                                                  \n",
            " block2b_project_conv (Conv2D)  (None, 56, 56, 24)   3456        ['block2b_se_excite[0][0]']      \n",
            "                                                                                                  \n",
            " block2b_project_bn (BatchNorma  (None, 56, 56, 24)  96          ['block2b_project_conv[0][0]']   \n",
            " lization)                                                                                        \n",
            "                                                                                                  \n",
            " block2b_drop (FixedDropout)    (None, 56, 56, 24)   0           ['block2b_project_bn[0][0]']     \n",
            "                                                                                                  \n",
            " block2b_add (Add)              (None, 56, 56, 24)   0           ['block2b_drop[0][0]',           \n",
            "                                                                  'block2a_project_bn[0][0]']     \n",
            "                                                                                                  \n",
            " block3a_expand_conv (Conv2D)   (None, 56, 56, 144)  3456        ['block2b_add[0][0]']            \n",
            "                                                                                                  \n",
            " block3a_expand_bn (BatchNormal  (None, 56, 56, 144)  576        ['block3a_expand_conv[0][0]']    \n",
            " ization)                                                                                         \n",
            "                                                                                                  \n",
            " block3a_expand_activation (Act  (None, 56, 56, 144)  0          ['block3a_expand_bn[0][0]']      \n",
            " ivation)                                                                                         \n",
            "                                                                                                  \n",
            " block3a_dwconv (DepthwiseConv2  (None, 28, 28, 144)  3600       ['block3a_expand_activation[0][0]\n",
            " D)                                                              ']                               \n",
            "                                                                                                  \n",
            " block3a_bn (BatchNormalization  (None, 28, 28, 144)  576        ['block3a_dwconv[0][0]']         \n",
            " )                                                                                                \n",
            "                                                                                                  \n",
            " block3a_activation (Activation  (None, 28, 28, 144)  0          ['block3a_bn[0][0]']             \n",
            " )                                                                                                \n",
            "                                                                                                  \n",
            " block3a_se_squeeze (GlobalAver  (None, 144)         0           ['block3a_activation[0][0]']     \n",
            " agePooling2D)                                                                                    \n",
            "                                                                                                  \n",
            " block3a_se_reshape (Reshape)   (None, 1, 1, 144)    0           ['block3a_se_squeeze[0][0]']     \n",
            "                                                                                                  \n",
            " block3a_se_reduce (Conv2D)     (None, 1, 1, 6)      870         ['block3a_se_reshape[0][0]']     \n",
            "                                                                                                  \n",
            " block3a_se_expand (Conv2D)     (None, 1, 1, 144)    1008        ['block3a_se_reduce[0][0]']      \n",
            "                                                                                                  \n",
            " block3a_se_excite (Multiply)   (None, 28, 28, 144)  0           ['block3a_activation[0][0]',     \n",
            "                                                                  'block3a_se_expand[0][0]']      \n",
            "                                                                                                  \n",
            " block3a_project_conv (Conv2D)  (None, 28, 28, 40)   5760        ['block3a_se_excite[0][0]']      \n",
            "                                                                                                  \n",
            " block3a_project_bn (BatchNorma  (None, 28, 28, 40)  160         ['block3a_project_conv[0][0]']   \n",
            " lization)                                                                                        \n",
            "                                                                                                  \n",
            " block3b_expand_conv (Conv2D)   (None, 28, 28, 240)  9600        ['block3a_project_bn[0][0]']     \n",
            "                                                                                                  \n",
            " block3b_expand_bn (BatchNormal  (None, 28, 28, 240)  960        ['block3b_expand_conv[0][0]']    \n",
            " ization)                                                                                         \n",
            "                                                                                                  \n",
            " block3b_expand_activation (Act  (None, 28, 28, 240)  0          ['block3b_expand_bn[0][0]']      \n",
            " ivation)                                                                                         \n",
            "                                                                                                  \n",
            " block3b_dwconv (DepthwiseConv2  (None, 28, 28, 240)  6000       ['block3b_expand_activation[0][0]\n",
            " D)                                                              ']                               \n",
            "                                                                                                  \n",
            " block3b_bn (BatchNormalization  (None, 28, 28, 240)  960        ['block3b_dwconv[0][0]']         \n",
            " )                                                                                                \n",
            "                                                                                                  \n",
            " block3b_activation (Activation  (None, 28, 28, 240)  0          ['block3b_bn[0][0]']             \n",
            " )                                                                                                \n",
            "                                                                                                  \n",
            " block3b_se_squeeze (GlobalAver  (None, 240)         0           ['block3b_activation[0][0]']     \n",
            " agePooling2D)                                                                                    \n",
            "                                                                                                  \n",
            " block3b_se_reshape (Reshape)   (None, 1, 1, 240)    0           ['block3b_se_squeeze[0][0]']     \n",
            "                                                                                                  \n",
            " block3b_se_reduce (Conv2D)     (None, 1, 1, 10)     2410        ['block3b_se_reshape[0][0]']     \n",
            "                                                                                                  \n",
            " block3b_se_expand (Conv2D)     (None, 1, 1, 240)    2640        ['block3b_se_reduce[0][0]']      \n",
            "                                                                                                  \n",
            " block3b_se_excite (Multiply)   (None, 28, 28, 240)  0           ['block3b_activation[0][0]',     \n",
            "                                                                  'block3b_se_expand[0][0]']      \n",
            "                                                                                                  \n",
            " block3b_project_conv (Conv2D)  (None, 28, 28, 40)   9600        ['block3b_se_excite[0][0]']      \n",
            "                                                                                                  \n",
            " block3b_project_bn (BatchNorma  (None, 28, 28, 40)  160         ['block3b_project_conv[0][0]']   \n",
            " lization)                                                                                        \n",
            "                                                                                                  \n",
            " block3b_drop (FixedDropout)    (None, 28, 28, 40)   0           ['block3b_project_bn[0][0]']     \n",
            "                                                                                                  \n",
            " block3b_add (Add)              (None, 28, 28, 40)   0           ['block3b_drop[0][0]',           \n",
            "                                                                  'block3a_project_bn[0][0]']     \n",
            "                                                                                                  \n",
            " block4a_expand_conv (Conv2D)   (None, 28, 28, 240)  9600        ['block3b_add[0][0]']            \n",
            "                                                                                                  \n",
            " block4a_expand_bn (BatchNormal  (None, 28, 28, 240)  960        ['block4a_expand_conv[0][0]']    \n",
            " ization)                                                                                         \n",
            "                                                                                                  \n",
            " block4a_expand_activation (Act  (None, 28, 28, 240)  0          ['block4a_expand_bn[0][0]']      \n",
            " ivation)                                                                                         \n",
            "                                                                                                  \n",
            " block4a_dwconv (DepthwiseConv2  (None, 14, 14, 240)  2160       ['block4a_expand_activation[0][0]\n",
            " D)                                                              ']                               \n",
            "                                                                                                  \n",
            " block4a_bn (BatchNormalization  (None, 14, 14, 240)  960        ['block4a_dwconv[0][0]']         \n",
            " )                                                                                                \n",
            "                                                                                                  \n",
            " block4a_activation (Activation  (None, 14, 14, 240)  0          ['block4a_bn[0][0]']             \n",
            " )                                                                                                \n",
            "                                                                                                  \n",
            " block4a_se_squeeze (GlobalAver  (None, 240)         0           ['block4a_activation[0][0]']     \n",
            " agePooling2D)                                                                                    \n",
            "                                                                                                  \n",
            " block4a_se_reshape (Reshape)   (None, 1, 1, 240)    0           ['block4a_se_squeeze[0][0]']     \n",
            "                                                                                                  \n",
            " block4a_se_reduce (Conv2D)     (None, 1, 1, 10)     2410        ['block4a_se_reshape[0][0]']     \n",
            "                                                                                                  \n",
            " block4a_se_expand (Conv2D)     (None, 1, 1, 240)    2640        ['block4a_se_reduce[0][0]']      \n",
            "                                                                                                  \n",
            " block4a_se_excite (Multiply)   (None, 14, 14, 240)  0           ['block4a_activation[0][0]',     \n",
            "                                                                  'block4a_se_expand[0][0]']      \n",
            "                                                                                                  \n",
            " block4a_project_conv (Conv2D)  (None, 14, 14, 80)   19200       ['block4a_se_excite[0][0]']      \n",
            "                                                                                                  \n",
            " block4a_project_bn (BatchNorma  (None, 14, 14, 80)  320         ['block4a_project_conv[0][0]']   \n",
            " lization)                                                                                        \n",
            "                                                                                                  \n",
            " block4b_expand_conv (Conv2D)   (None, 14, 14, 480)  38400       ['block4a_project_bn[0][0]']     \n",
            "                                                                                                  \n",
            " block4b_expand_bn (BatchNormal  (None, 14, 14, 480)  1920       ['block4b_expand_conv[0][0]']    \n",
            " ization)                                                                                         \n",
            "                                                                                                  \n",
            " block4b_expand_activation (Act  (None, 14, 14, 480)  0          ['block4b_expand_bn[0][0]']      \n",
            " ivation)                                                                                         \n",
            "                                                                                                  \n",
            " block4b_dwconv (DepthwiseConv2  (None, 14, 14, 480)  4320       ['block4b_expand_activation[0][0]\n",
            " D)                                                              ']                               \n",
            "                                                                                                  \n",
            " block4b_bn (BatchNormalization  (None, 14, 14, 480)  1920       ['block4b_dwconv[0][0]']         \n",
            " )                                                                                                \n",
            "                                                                                                  \n",
            " block4b_activation (Activation  (None, 14, 14, 480)  0          ['block4b_bn[0][0]']             \n",
            " )                                                                                                \n",
            "                                                                                                  \n",
            " block4b_se_squeeze (GlobalAver  (None, 480)         0           ['block4b_activation[0][0]']     \n",
            " agePooling2D)                                                                                    \n",
            "                                                                                                  \n",
            " block4b_se_reshape (Reshape)   (None, 1, 1, 480)    0           ['block4b_se_squeeze[0][0]']     \n",
            "                                                                                                  \n",
            " block4b_se_reduce (Conv2D)     (None, 1, 1, 20)     9620        ['block4b_se_reshape[0][0]']     \n",
            "                                                                                                  \n",
            " block4b_se_expand (Conv2D)     (None, 1, 1, 480)    10080       ['block4b_se_reduce[0][0]']      \n",
            "                                                                                                  \n",
            " block4b_se_excite (Multiply)   (None, 14, 14, 480)  0           ['block4b_activation[0][0]',     \n",
            "                                                                  'block4b_se_expand[0][0]']      \n",
            "                                                                                                  \n",
            " block4b_project_conv (Conv2D)  (None, 14, 14, 80)   38400       ['block4b_se_excite[0][0]']      \n",
            "                                                                                                  \n",
            " block4b_project_bn (BatchNorma  (None, 14, 14, 80)  320         ['block4b_project_conv[0][0]']   \n",
            " lization)                                                                                        \n",
            "                                                                                                  \n",
            " block4b_drop (FixedDropout)    (None, 14, 14, 80)   0           ['block4b_project_bn[0][0]']     \n",
            "                                                                                                  \n",
            " block4b_add (Add)              (None, 14, 14, 80)   0           ['block4b_drop[0][0]',           \n",
            "                                                                  'block4a_project_bn[0][0]']     \n",
            "                                                                                                  \n",
            " block4c_expand_conv (Conv2D)   (None, 14, 14, 480)  38400       ['block4b_add[0][0]']            \n",
            "                                                                                                  \n",
            " block4c_expand_bn (BatchNormal  (None, 14, 14, 480)  1920       ['block4c_expand_conv[0][0]']    \n",
            " ization)                                                                                         \n",
            "                                                                                                  \n",
            " block4c_expand_activation (Act  (None, 14, 14, 480)  0          ['block4c_expand_bn[0][0]']      \n",
            " ivation)                                                                                         \n",
            "                                                                                                  \n",
            " block4c_dwconv (DepthwiseConv2  (None, 14, 14, 480)  4320       ['block4c_expand_activation[0][0]\n",
            " D)                                                              ']                               \n",
            "                                                                                                  \n",
            " block4c_bn (BatchNormalization  (None, 14, 14, 480)  1920       ['block4c_dwconv[0][0]']         \n",
            " )                                                                                                \n",
            "                                                                                                  \n",
            " block4c_activation (Activation  (None, 14, 14, 480)  0          ['block4c_bn[0][0]']             \n",
            " )                                                                                                \n",
            "                                                                                                  \n",
            " block4c_se_squeeze (GlobalAver  (None, 480)         0           ['block4c_activation[0][0]']     \n",
            " agePooling2D)                                                                                    \n",
            "                                                                                                  \n",
            " block4c_se_reshape (Reshape)   (None, 1, 1, 480)    0           ['block4c_se_squeeze[0][0]']     \n",
            "                                                                                                  \n",
            " block4c_se_reduce (Conv2D)     (None, 1, 1, 20)     9620        ['block4c_se_reshape[0][0]']     \n",
            "                                                                                                  \n",
            " block4c_se_expand (Conv2D)     (None, 1, 1, 480)    10080       ['block4c_se_reduce[0][0]']      \n",
            "                                                                                                  \n",
            " block4c_se_excite (Multiply)   (None, 14, 14, 480)  0           ['block4c_activation[0][0]',     \n",
            "                                                                  'block4c_se_expand[0][0]']      \n",
            "                                                                                                  \n",
            " block4c_project_conv (Conv2D)  (None, 14, 14, 80)   38400       ['block4c_se_excite[0][0]']      \n",
            "                                                                                                  \n",
            " block4c_project_bn (BatchNorma  (None, 14, 14, 80)  320         ['block4c_project_conv[0][0]']   \n",
            " lization)                                                                                        \n",
            "                                                                                                  \n",
            " block4c_drop (FixedDropout)    (None, 14, 14, 80)   0           ['block4c_project_bn[0][0]']     \n",
            "                                                                                                  \n",
            " block4c_add (Add)              (None, 14, 14, 80)   0           ['block4c_drop[0][0]',           \n",
            "                                                                  'block4b_add[0][0]']            \n",
            "                                                                                                  \n",
            " block5a_expand_conv (Conv2D)   (None, 14, 14, 480)  38400       ['block4c_add[0][0]']            \n",
            "                                                                                                  \n",
            " block5a_expand_bn (BatchNormal  (None, 14, 14, 480)  1920       ['block5a_expand_conv[0][0]']    \n",
            " ization)                                                                                         \n",
            "                                                                                                  \n",
            " block5a_expand_activation (Act  (None, 14, 14, 480)  0          ['block5a_expand_bn[0][0]']      \n",
            " ivation)                                                                                         \n",
            "                                                                                                  \n",
            " block5a_dwconv (DepthwiseConv2  (None, 14, 14, 480)  12000      ['block5a_expand_activation[0][0]\n",
            " D)                                                              ']                               \n",
            "                                                                                                  \n",
            " block5a_bn (BatchNormalization  (None, 14, 14, 480)  1920       ['block5a_dwconv[0][0]']         \n",
            " )                                                                                                \n",
            "                                                                                                  \n",
            " block5a_activation (Activation  (None, 14, 14, 480)  0          ['block5a_bn[0][0]']             \n",
            " )                                                                                                \n",
            "                                                                                                  \n",
            " block5a_se_squeeze (GlobalAver  (None, 480)         0           ['block5a_activation[0][0]']     \n",
            " agePooling2D)                                                                                    \n",
            "                                                                                                  \n",
            " block5a_se_reshape (Reshape)   (None, 1, 1, 480)    0           ['block5a_se_squeeze[0][0]']     \n",
            "                                                                                                  \n",
            " block5a_se_reduce (Conv2D)     (None, 1, 1, 20)     9620        ['block5a_se_reshape[0][0]']     \n",
            "                                                                                                  \n",
            " block5a_se_expand (Conv2D)     (None, 1, 1, 480)    10080       ['block5a_se_reduce[0][0]']      \n",
            "                                                                                                  \n",
            " block5a_se_excite (Multiply)   (None, 14, 14, 480)  0           ['block5a_activation[0][0]',     \n",
            "                                                                  'block5a_se_expand[0][0]']      \n",
            "                                                                                                  \n",
            " block5a_project_conv (Conv2D)  (None, 14, 14, 112)  53760       ['block5a_se_excite[0][0]']      \n",
            "                                                                                                  \n",
            " block5a_project_bn (BatchNorma  (None, 14, 14, 112)  448        ['block5a_project_conv[0][0]']   \n",
            " lization)                                                                                        \n",
            "                                                                                                  \n",
            " block5b_expand_conv (Conv2D)   (None, 14, 14, 672)  75264       ['block5a_project_bn[0][0]']     \n",
            "                                                                                                  \n",
            " block5b_expand_bn (BatchNormal  (None, 14, 14, 672)  2688       ['block5b_expand_conv[0][0]']    \n",
            " ization)                                                                                         \n",
            "                                                                                                  \n",
            " block5b_expand_activation (Act  (None, 14, 14, 672)  0          ['block5b_expand_bn[0][0]']      \n",
            " ivation)                                                                                         \n",
            "                                                                                                  \n",
            " block5b_dwconv (DepthwiseConv2  (None, 14, 14, 672)  16800      ['block5b_expand_activation[0][0]\n",
            " D)                                                              ']                               \n",
            "                                                                                                  \n",
            " block5b_bn (BatchNormalization  (None, 14, 14, 672)  2688       ['block5b_dwconv[0][0]']         \n",
            " )                                                                                                \n",
            "                                                                                                  \n",
            " block5b_activation (Activation  (None, 14, 14, 672)  0          ['block5b_bn[0][0]']             \n",
            " )                                                                                                \n",
            "                                                                                                  \n",
            " block5b_se_squeeze (GlobalAver  (None, 672)         0           ['block5b_activation[0][0]']     \n",
            " agePooling2D)                                                                                    \n",
            "                                                                                                  \n",
            " block5b_se_reshape (Reshape)   (None, 1, 1, 672)    0           ['block5b_se_squeeze[0][0]']     \n",
            "                                                                                                  \n",
            " block5b_se_reduce (Conv2D)     (None, 1, 1, 28)     18844       ['block5b_se_reshape[0][0]']     \n",
            "                                                                                                  \n",
            " block5b_se_expand (Conv2D)     (None, 1, 1, 672)    19488       ['block5b_se_reduce[0][0]']      \n",
            "                                                                                                  \n",
            " block5b_se_excite (Multiply)   (None, 14, 14, 672)  0           ['block5b_activation[0][0]',     \n",
            "                                                                  'block5b_se_expand[0][0]']      \n",
            "                                                                                                  \n",
            " block5b_project_conv (Conv2D)  (None, 14, 14, 112)  75264       ['block5b_se_excite[0][0]']      \n",
            "                                                                                                  \n",
            " block5b_project_bn (BatchNorma  (None, 14, 14, 112)  448        ['block5b_project_conv[0][0]']   \n",
            " lization)                                                                                        \n",
            "                                                                                                  \n",
            " block5b_drop (FixedDropout)    (None, 14, 14, 112)  0           ['block5b_project_bn[0][0]']     \n",
            "                                                                                                  \n",
            " block5b_add (Add)              (None, 14, 14, 112)  0           ['block5b_drop[0][0]',           \n",
            "                                                                  'block5a_project_bn[0][0]']     \n",
            "                                                                                                  \n",
            " block5c_expand_conv (Conv2D)   (None, 14, 14, 672)  75264       ['block5b_add[0][0]']            \n",
            "                                                                                                  \n",
            " block5c_expand_bn (BatchNormal  (None, 14, 14, 672)  2688       ['block5c_expand_conv[0][0]']    \n",
            " ization)                                                                                         \n",
            "                                                                                                  \n",
            " block5c_expand_activation (Act  (None, 14, 14, 672)  0          ['block5c_expand_bn[0][0]']      \n",
            " ivation)                                                                                         \n",
            "                                                                                                  \n",
            " block5c_dwconv (DepthwiseConv2  (None, 14, 14, 672)  16800      ['block5c_expand_activation[0][0]\n",
            " D)                                                              ']                               \n",
            "                                                                                                  \n",
            " block5c_bn (BatchNormalization  (None, 14, 14, 672)  2688       ['block5c_dwconv[0][0]']         \n",
            " )                                                                                                \n",
            "                                                                                                  \n",
            " block5c_activation (Activation  (None, 14, 14, 672)  0          ['block5c_bn[0][0]']             \n",
            " )                                                                                                \n",
            "                                                                                                  \n",
            " block5c_se_squeeze (GlobalAver  (None, 672)         0           ['block5c_activation[0][0]']     \n",
            " agePooling2D)                                                                                    \n",
            "                                                                                                  \n",
            " block5c_se_reshape (Reshape)   (None, 1, 1, 672)    0           ['block5c_se_squeeze[0][0]']     \n",
            "                                                                                                  \n",
            " block5c_se_reduce (Conv2D)     (None, 1, 1, 28)     18844       ['block5c_se_reshape[0][0]']     \n",
            "                                                                                                  \n",
            " block5c_se_expand (Conv2D)     (None, 1, 1, 672)    19488       ['block5c_se_reduce[0][0]']      \n",
            "                                                                                                  \n",
            " block5c_se_excite (Multiply)   (None, 14, 14, 672)  0           ['block5c_activation[0][0]',     \n",
            "                                                                  'block5c_se_expand[0][0]']      \n",
            "                                                                                                  \n",
            " block5c_project_conv (Conv2D)  (None, 14, 14, 112)  75264       ['block5c_se_excite[0][0]']      \n",
            "                                                                                                  \n",
            " block5c_project_bn (BatchNorma  (None, 14, 14, 112)  448        ['block5c_project_conv[0][0]']   \n",
            " lization)                                                                                        \n",
            "                                                                                                  \n",
            " block5c_drop (FixedDropout)    (None, 14, 14, 112)  0           ['block5c_project_bn[0][0]']     \n",
            "                                                                                                  \n",
            " block5c_add (Add)              (None, 14, 14, 112)  0           ['block5c_drop[0][0]',           \n",
            "                                                                  'block5b_add[0][0]']            \n",
            "                                                                                                  \n",
            " block6a_expand_conv (Conv2D)   (None, 14, 14, 672)  75264       ['block5c_add[0][0]']            \n",
            "                                                                                                  \n",
            " block6a_expand_bn (BatchNormal  (None, 14, 14, 672)  2688       ['block6a_expand_conv[0][0]']    \n",
            " ization)                                                                                         \n",
            "                                                                                                  \n",
            " block6a_expand_activation (Act  (None, 14, 14, 672)  0          ['block6a_expand_bn[0][0]']      \n",
            " ivation)                                                                                         \n",
            "                                                                                                  \n",
            " block6a_dwconv (DepthwiseConv2  (None, 7, 7, 672)   16800       ['block6a_expand_activation[0][0]\n",
            " D)                                                              ']                               \n",
            "                                                                                                  \n",
            " block6a_bn (BatchNormalization  (None, 7, 7, 672)   2688        ['block6a_dwconv[0][0]']         \n",
            " )                                                                                                \n",
            "                                                                                                  \n",
            " block6a_activation (Activation  (None, 7, 7, 672)   0           ['block6a_bn[0][0]']             \n",
            " )                                                                                                \n",
            "                                                                                                  \n",
            " block6a_se_squeeze (GlobalAver  (None, 672)         0           ['block6a_activation[0][0]']     \n",
            " agePooling2D)                                                                                    \n",
            "                                                                                                  \n",
            " block6a_se_reshape (Reshape)   (None, 1, 1, 672)    0           ['block6a_se_squeeze[0][0]']     \n",
            "                                                                                                  \n",
            " block6a_se_reduce (Conv2D)     (None, 1, 1, 28)     18844       ['block6a_se_reshape[0][0]']     \n",
            "                                                                                                  \n",
            " block6a_se_expand (Conv2D)     (None, 1, 1, 672)    19488       ['block6a_se_reduce[0][0]']      \n",
            "                                                                                                  \n",
            " block6a_se_excite (Multiply)   (None, 7, 7, 672)    0           ['block6a_activation[0][0]',     \n",
            "                                                                  'block6a_se_expand[0][0]']      \n",
            "                                                                                                  \n",
            " block6a_project_conv (Conv2D)  (None, 7, 7, 192)    129024      ['block6a_se_excite[0][0]']      \n",
            "                                                                                                  \n",
            " block6a_project_bn (BatchNorma  (None, 7, 7, 192)   768         ['block6a_project_conv[0][0]']   \n",
            " lization)                                                                                        \n",
            "                                                                                                  \n",
            " block6b_expand_conv (Conv2D)   (None, 7, 7, 1152)   221184      ['block6a_project_bn[0][0]']     \n",
            "                                                                                                  \n",
            " block6b_expand_bn (BatchNormal  (None, 7, 7, 1152)  4608        ['block6b_expand_conv[0][0]']    \n",
            " ization)                                                                                         \n",
            "                                                                                                  \n",
            " block6b_expand_activation (Act  (None, 7, 7, 1152)  0           ['block6b_expand_bn[0][0]']      \n",
            " ivation)                                                                                         \n",
            "                                                                                                  \n",
            " block6b_dwconv (DepthwiseConv2  (None, 7, 7, 1152)  28800       ['block6b_expand_activation[0][0]\n",
            " D)                                                              ']                               \n",
            "                                                                                                  \n",
            " block6b_bn (BatchNormalization  (None, 7, 7, 1152)  4608        ['block6b_dwconv[0][0]']         \n",
            " )                                                                                                \n",
            "                                                                                                  \n",
            " block6b_activation (Activation  (None, 7, 7, 1152)  0           ['block6b_bn[0][0]']             \n",
            " )                                                                                                \n",
            "                                                                                                  \n",
            " block6b_se_squeeze (GlobalAver  (None, 1152)        0           ['block6b_activation[0][0]']     \n",
            " agePooling2D)                                                                                    \n",
            "                                                                                                  \n",
            " block6b_se_reshape (Reshape)   (None, 1, 1, 1152)   0           ['block6b_se_squeeze[0][0]']     \n",
            "                                                                                                  \n",
            " block6b_se_reduce (Conv2D)     (None, 1, 1, 48)     55344       ['block6b_se_reshape[0][0]']     \n",
            "                                                                                                  \n",
            " block6b_se_expand (Conv2D)     (None, 1, 1, 1152)   56448       ['block6b_se_reduce[0][0]']      \n",
            "                                                                                                  \n",
            " block6b_se_excite (Multiply)   (None, 7, 7, 1152)   0           ['block6b_activation[0][0]',     \n",
            "                                                                  'block6b_se_expand[0][0]']      \n",
            "                                                                                                  \n",
            " block6b_project_conv (Conv2D)  (None, 7, 7, 192)    221184      ['block6b_se_excite[0][0]']      \n",
            "                                                                                                  \n",
            " block6b_project_bn (BatchNorma  (None, 7, 7, 192)   768         ['block6b_project_conv[0][0]']   \n",
            " lization)                                                                                        \n",
            "                                                                                                  \n",
            " block6b_drop (FixedDropout)    (None, 7, 7, 192)    0           ['block6b_project_bn[0][0]']     \n",
            "                                                                                                  \n",
            " block6b_add (Add)              (None, 7, 7, 192)    0           ['block6b_drop[0][0]',           \n",
            "                                                                  'block6a_project_bn[0][0]']     \n",
            "                                                                                                  \n",
            " block6c_expand_conv (Conv2D)   (None, 7, 7, 1152)   221184      ['block6b_add[0][0]']            \n",
            "                                                                                                  \n",
            " block6c_expand_bn (BatchNormal  (None, 7, 7, 1152)  4608        ['block6c_expand_conv[0][0]']    \n",
            " ization)                                                                                         \n",
            "                                                                                                  \n",
            " block6c_expand_activation (Act  (None, 7, 7, 1152)  0           ['block6c_expand_bn[0][0]']      \n",
            " ivation)                                                                                         \n",
            "                                                                                                  \n",
            " block6c_dwconv (DepthwiseConv2  (None, 7, 7, 1152)  28800       ['block6c_expand_activation[0][0]\n",
            " D)                                                              ']                               \n",
            "                                                                                                  \n",
            " block6c_bn (BatchNormalization  (None, 7, 7, 1152)  4608        ['block6c_dwconv[0][0]']         \n",
            " )                                                                                                \n",
            "                                                                                                  \n",
            " block6c_activation (Activation  (None, 7, 7, 1152)  0           ['block6c_bn[0][0]']             \n",
            " )                                                                                                \n",
            "                                                                                                  \n",
            " block6c_se_squeeze (GlobalAver  (None, 1152)        0           ['block6c_activation[0][0]']     \n",
            " agePooling2D)                                                                                    \n",
            "                                                                                                  \n",
            " block6c_se_reshape (Reshape)   (None, 1, 1, 1152)   0           ['block6c_se_squeeze[0][0]']     \n",
            "                                                                                                  \n",
            " block6c_se_reduce (Conv2D)     (None, 1, 1, 48)     55344       ['block6c_se_reshape[0][0]']     \n",
            "                                                                                                  \n",
            " block6c_se_expand (Conv2D)     (None, 1, 1, 1152)   56448       ['block6c_se_reduce[0][0]']      \n",
            "                                                                                                  \n",
            " block6c_se_excite (Multiply)   (None, 7, 7, 1152)   0           ['block6c_activation[0][0]',     \n",
            "                                                                  'block6c_se_expand[0][0]']      \n",
            "                                                                                                  \n",
            " block6c_project_conv (Conv2D)  (None, 7, 7, 192)    221184      ['block6c_se_excite[0][0]']      \n",
            "                                                                                                  \n",
            " block6c_project_bn (BatchNorma  (None, 7, 7, 192)   768         ['block6c_project_conv[0][0]']   \n",
            " lization)                                                                                        \n",
            "                                                                                                  \n",
            " block6c_drop (FixedDropout)    (None, 7, 7, 192)    0           ['block6c_project_bn[0][0]']     \n",
            "                                                                                                  \n",
            " block6c_add (Add)              (None, 7, 7, 192)    0           ['block6c_drop[0][0]',           \n",
            "                                                                  'block6b_add[0][0]']            \n",
            "                                                                                                  \n",
            " block6d_expand_conv (Conv2D)   (None, 7, 7, 1152)   221184      ['block6c_add[0][0]']            \n",
            "                                                                                                  \n",
            " block6d_expand_bn (BatchNormal  (None, 7, 7, 1152)  4608        ['block6d_expand_conv[0][0]']    \n",
            " ization)                                                                                         \n",
            "                                                                                                  \n",
            " block6d_expand_activation (Act  (None, 7, 7, 1152)  0           ['block6d_expand_bn[0][0]']      \n",
            " ivation)                                                                                         \n",
            "                                                                                                  \n",
            " block6d_dwconv (DepthwiseConv2  (None, 7, 7, 1152)  28800       ['block6d_expand_activation[0][0]\n",
            " D)                                                              ']                               \n",
            "                                                                                                  \n",
            " block6d_bn (BatchNormalization  (None, 7, 7, 1152)  4608        ['block6d_dwconv[0][0]']         \n",
            " )                                                                                                \n",
            "                                                                                                  \n",
            " block6d_activation (Activation  (None, 7, 7, 1152)  0           ['block6d_bn[0][0]']             \n",
            " )                                                                                                \n",
            "                                                                                                  \n",
            " block6d_se_squeeze (GlobalAver  (None, 1152)        0           ['block6d_activation[0][0]']     \n",
            " agePooling2D)                                                                                    \n",
            "                                                                                                  \n",
            " block6d_se_reshape (Reshape)   (None, 1, 1, 1152)   0           ['block6d_se_squeeze[0][0]']     \n",
            "                                                                                                  \n",
            " block6d_se_reduce (Conv2D)     (None, 1, 1, 48)     55344       ['block6d_se_reshape[0][0]']     \n",
            "                                                                                                  \n",
            " block6d_se_expand (Conv2D)     (None, 1, 1, 1152)   56448       ['block6d_se_reduce[0][0]']      \n",
            "                                                                                                  \n",
            " block6d_se_excite (Multiply)   (None, 7, 7, 1152)   0           ['block6d_activation[0][0]',     \n",
            "                                                                  'block6d_se_expand[0][0]']      \n",
            "                                                                                                  \n",
            " block6d_project_conv (Conv2D)  (None, 7, 7, 192)    221184      ['block6d_se_excite[0][0]']      \n",
            "                                                                                                  \n",
            " block6d_project_bn (BatchNorma  (None, 7, 7, 192)   768         ['block6d_project_conv[0][0]']   \n",
            " lization)                                                                                        \n",
            "                                                                                                  \n",
            " block6d_drop (FixedDropout)    (None, 7, 7, 192)    0           ['block6d_project_bn[0][0]']     \n",
            "                                                                                                  \n",
            " block6d_add (Add)              (None, 7, 7, 192)    0           ['block6d_drop[0][0]',           \n",
            "                                                                  'block6c_add[0][0]']            \n",
            "                                                                                                  \n",
            " block7a_expand_conv (Conv2D)   (None, 7, 7, 1152)   221184      ['block6d_add[0][0]']            \n",
            "                                                                                                  \n",
            " block7a_expand_bn (BatchNormal  (None, 7, 7, 1152)  4608        ['block7a_expand_conv[0][0]']    \n",
            " ization)                                                                                         \n",
            "                                                                                                  \n",
            " block7a_expand_activation (Act  (None, 7, 7, 1152)  0           ['block7a_expand_bn[0][0]']      \n",
            " ivation)                                                                                         \n",
            "                                                                                                  \n",
            " block7a_dwconv (DepthwiseConv2  (None, 7, 7, 1152)  10368       ['block7a_expand_activation[0][0]\n",
            " D)                                                              ']                               \n",
            "                                                                                                  \n",
            " block7a_bn (BatchNormalization  (None, 7, 7, 1152)  4608        ['block7a_dwconv[0][0]']         \n",
            " )                                                                                                \n",
            "                                                                                                  \n",
            " block7a_activation (Activation  (None, 7, 7, 1152)  0           ['block7a_bn[0][0]']             \n",
            " )                                                                                                \n",
            "                                                                                                  \n",
            " block7a_se_squeeze (GlobalAver  (None, 1152)        0           ['block7a_activation[0][0]']     \n",
            " agePooling2D)                                                                                    \n",
            "                                                                                                  \n",
            " block7a_se_reshape (Reshape)   (None, 1, 1, 1152)   0           ['block7a_se_squeeze[0][0]']     \n",
            "                                                                                                  \n",
            " block7a_se_reduce (Conv2D)     (None, 1, 1, 48)     55344       ['block7a_se_reshape[0][0]']     \n",
            "                                                                                                  \n",
            " block7a_se_expand (Conv2D)     (None, 1, 1, 1152)   56448       ['block7a_se_reduce[0][0]']      \n",
            "                                                                                                  \n",
            " block7a_se_excite (Multiply)   (None, 7, 7, 1152)   0           ['block7a_activation[0][0]',     \n",
            "                                                                  'block7a_se_expand[0][0]']      \n",
            "                                                                                                  \n",
            " block7a_project_conv (Conv2D)  (None, 7, 7, 320)    368640      ['block7a_se_excite[0][0]']      \n",
            "                                                                                                  \n",
            " block7a_project_bn (BatchNorma  (None, 7, 7, 320)   1280        ['block7a_project_conv[0][0]']   \n",
            " lization)                                                                                        \n",
            "                                                                                                  \n",
            " top_conv (Conv2D)              (None, 7, 7, 1280)   409600      ['block7a_project_bn[0][0]']     \n",
            "                                                                                                  \n",
            " top_bn (BatchNormalization)    (None, 7, 7, 1280)   5120        ['top_conv[0][0]']               \n",
            "                                                                                                  \n",
            " top_activation (Activation)    (None, 7, 7, 1280)   0           ['top_bn[0][0]']                 \n",
            "                                                                                                  \n",
            " avg_pool (GlobalAveragePooling  (None, 1280)        0           ['top_activation[0][0]']         \n",
            " 2D)                                                                                              \n",
            "                                                                                                  \n",
            "==================================================================================================\n",
            "Total params: 4,049,564\n",
            "Trainable params: 0\n",
            "Non-trainable params: 4,049,564\n",
            "__________________________________________________________________________________________________\n"
          ]
        }
      ],
      "source": [
        "base_model.summary()"
      ]
    },
    {
      "cell_type": "code",
      "execution_count": null,
      "metadata": {
        "id": "y6_aKLW4nmGn"
      },
      "outputs": [],
      "source": [
        "cnn_model = keras.models.Sequential([\n",
        "    base_model,\n",
        "    keras.layers.Flatten(name= 'flatten'),\n",
        "    keras.layers.Dense(224, activation = \"relu\"),\n",
        "    keras.layers.Dropout(0.3, name=\"dropout_out11\"),\n",
        "    keras.layers.Dense(224, activation = \"relu\"),\n",
        "    keras.layers.Dense(3, activation = \"softmax\"),\n",
        "])"
      ]
    },
    {
      "cell_type": "code",
      "execution_count": null,
      "metadata": {
        "colab": {
          "base_uri": "https://localhost:8080/"
        },
        "id": "7RcRCRJsnoPj",
        "outputId": "de54712c-5702-44ba-99f4-b85e50e111e5"
      },
      "outputs": [
        {
          "output_type": "stream",
          "name": "stdout",
          "text": [
            "Model: \"sequential_9\"\n",
            "_________________________________________________________________\n",
            " Layer (type)                Output Shape              Param #   \n",
            "=================================================================\n",
            " efficientnet-b0 (Functional  (None, 1280)             4049564   \n",
            " )                                                               \n",
            "                                                                 \n",
            " flatten (Flatten)           (None, 1280)              0         \n",
            "                                                                 \n",
            " dense_30 (Dense)            (None, 224)               286944    \n",
            "                                                                 \n",
            " dropout_out11 (Dropout)     (None, 224)               0         \n",
            "                                                                 \n",
            " dense_31 (Dense)            (None, 224)               50400     \n",
            "                                                                 \n",
            " dense_32 (Dense)            (None, 3)                 675       \n",
            "                                                                 \n",
            "=================================================================\n",
            "Total params: 4,387,583\n",
            "Trainable params: 338,019\n",
            "Non-trainable params: 4,049,564\n",
            "_________________________________________________________________\n"
          ]
        }
      ],
      "source": [
        "cnn_model.summary()"
      ]
    },
    {
      "cell_type": "code",
      "execution_count": null,
      "metadata": {
        "colab": {
          "base_uri": "https://localhost:8080/"
        },
        "id": "o45D_w_znquu",
        "outputId": "9fdd1ce9-31da-4936-aaa9-11a0951c50af"
      },
      "outputs": [
        {
          "output_type": "stream",
          "name": "stderr",
          "text": [
            "/usr/local/lib/python3.8/dist-packages/keras/optimizers/optimizer_v2/rmsprop.py:135: UserWarning: The `lr` argument is deprecated, use `learning_rate` instead.\n",
            "  super(RMSprop, self).__init__(name, **kwargs)\n"
          ]
        }
      ],
      "source": [
        "cnn_model.compile(optimizer = optimizers.RMSprop(lr=2e-5),\n",
        "                  loss = 'categorical_crossentropy',\n",
        "                  metrics = ['accuracy'])\n",
        "\n",
        "#loss = 'categorical_crossentropy'"
      ]
    },
    {
      "cell_type": "code",
      "execution_count": null,
      "metadata": {
        "id": "2Ca8HvP3qHRl"
      },
      "outputs": [],
      "source": [
        "NUM_TRAIN = sum([len(files) for r, d, files in os.walk(train_dir)])\n",
        "NUM_TEST = sum([len(files) for r, d, files in os.walk(valid_dir)])"
      ]
    },
    {
      "cell_type": "code",
      "execution_count": null,
      "metadata": {
        "colab": {
          "base_uri": "https://localhost:8080/"
        },
        "id": "dOzk4IiAnxIk",
        "outputId": "2d1672de-9b44-4b1f-c6f1-0cada4fba530"
      },
      "outputs": [
        {
          "output_type": "stream",
          "name": "stdout",
          "text": [
            "Epoch 1/50\n"
          ]
        },
        {
          "output_type": "stream",
          "name": "stderr",
          "text": [
            "<ipython-input-74-cadb4bfa9e91>:1: UserWarning: `Model.fit_generator` is deprecated and will be removed in a future version. Please use `Model.fit`, which supports generators.\n",
            "  history = cnn_model.fit_generator(\n"
          ]
        },
        {
          "output_type": "stream",
          "name": "stdout",
          "text": [
            "28/28 [==============================] - 12s 191ms/step - loss: 1.0815 - accuracy: 0.4464 - val_loss: 1.0851 - val_accuracy: 0.4643\n",
            "Epoch 2/50\n",
            "28/28 [==============================] - 1s 46ms/step - loss: 1.0467 - accuracy: 0.4464 - val_loss: 1.0930 - val_accuracy: 0.3571\n",
            "Epoch 3/50\n",
            "28/28 [==============================] - 1s 45ms/step - loss: 1.0311 - accuracy: 0.5357 - val_loss: 1.1036 - val_accuracy: 0.2857\n",
            "Epoch 4/50\n",
            "28/28 [==============================] - 1s 47ms/step - loss: 1.0208 - accuracy: 0.5804 - val_loss: 1.1141 - val_accuracy: 0.2500\n",
            "Epoch 5/50\n",
            "28/28 [==============================] - 1s 47ms/step - loss: 1.0121 - accuracy: 0.5982 - val_loss: 1.1241 - val_accuracy: 0.2321\n",
            "Epoch 6/50\n",
            "28/28 [==============================] - 1s 47ms/step - loss: 1.0006 - accuracy: 0.6161 - val_loss: 1.1396 - val_accuracy: 0.2143\n",
            "Epoch 7/50\n",
            "28/28 [==============================] - 1s 46ms/step - loss: 0.9953 - accuracy: 0.5804 - val_loss: 1.1506 - val_accuracy: 0.1964\n",
            "Epoch 8/50\n",
            "28/28 [==============================] - 1s 49ms/step - loss: 0.9614 - accuracy: 0.6250 - val_loss: 1.1604 - val_accuracy: 0.1964\n",
            "Epoch 9/50\n",
            "28/28 [==============================] - 2s 57ms/step - loss: 0.9576 - accuracy: 0.6429 - val_loss: 1.1788 - val_accuracy: 0.2143\n",
            "Epoch 10/50\n",
            "28/28 [==============================] - 2s 72ms/step - loss: 0.9144 - accuracy: 0.6607 - val_loss: 1.1842 - val_accuracy: 0.1964\n",
            "Epoch 11/50\n",
            "28/28 [==============================] - 1s 48ms/step - loss: 0.9156 - accuracy: 0.6250 - val_loss: 1.2011 - val_accuracy: 0.1964\n",
            "Epoch 12/50\n",
            "28/28 [==============================] - 1s 48ms/step - loss: 0.9000 - accuracy: 0.7143 - val_loss: 1.2260 - val_accuracy: 0.1964\n",
            "Epoch 13/50\n",
            "28/28 [==============================] - 1s 49ms/step - loss: 0.9033 - accuracy: 0.6875 - val_loss: 1.2401 - val_accuracy: 0.1786\n",
            "Epoch 14/50\n",
            "28/28 [==============================] - 1s 47ms/step - loss: 0.8614 - accuracy: 0.7054 - val_loss: 1.2638 - val_accuracy: 0.1964\n",
            "Epoch 15/50\n",
            "28/28 [==============================] - 1s 47ms/step - loss: 0.8736 - accuracy: 0.7232 - val_loss: 1.2848 - val_accuracy: 0.1786\n",
            "Epoch 16/50\n",
            "28/28 [==============================] - 1s 47ms/step - loss: 0.8744 - accuracy: 0.6964 - val_loss: 1.3155 - val_accuracy: 0.1786\n",
            "Epoch 17/50\n",
            "28/28 [==============================] - 1s 47ms/step - loss: 0.8196 - accuracy: 0.7054 - val_loss: 1.3361 - val_accuracy: 0.1786\n",
            "Epoch 18/50\n",
            "28/28 [==============================] - 1s 48ms/step - loss: 0.8311 - accuracy: 0.6786 - val_loss: 1.3427 - val_accuracy: 0.1786\n",
            "Epoch 19/50\n",
            "28/28 [==============================] - 1s 48ms/step - loss: 0.8085 - accuracy: 0.7232 - val_loss: 1.3539 - val_accuracy: 0.1786\n",
            "Epoch 20/50\n",
            "28/28 [==============================] - 1s 48ms/step - loss: 0.8029 - accuracy: 0.7232 - val_loss: 1.3633 - val_accuracy: 0.1607\n",
            "Epoch 21/50\n",
            "28/28 [==============================] - 1s 47ms/step - loss: 0.7951 - accuracy: 0.6786 - val_loss: 1.3986 - val_accuracy: 0.1786\n",
            "Epoch 22/50\n",
            "28/28 [==============================] - 1s 47ms/step - loss: 0.7734 - accuracy: 0.7321 - val_loss: 1.4164 - val_accuracy: 0.1964\n",
            "Epoch 23/50\n",
            "28/28 [==============================] - 1s 46ms/step - loss: 0.7747 - accuracy: 0.7768 - val_loss: 1.4511 - val_accuracy: 0.1964\n",
            "Epoch 24/50\n",
            "28/28 [==============================] - 1s 47ms/step - loss: 0.7912 - accuracy: 0.6875 - val_loss: 1.4738 - val_accuracy: 0.1964\n",
            "Epoch 25/50\n",
            "28/28 [==============================] - 1s 46ms/step - loss: 0.7607 - accuracy: 0.7321 - val_loss: 1.4986 - val_accuracy: 0.1964\n",
            "Epoch 26/50\n",
            "28/28 [==============================] - 1s 48ms/step - loss: 0.7950 - accuracy: 0.7143 - val_loss: 1.5062 - val_accuracy: 0.1964\n",
            "Epoch 27/50\n",
            "28/28 [==============================] - 1s 49ms/step - loss: 0.7796 - accuracy: 0.7232 - val_loss: 1.5375 - val_accuracy: 0.1964\n",
            "Epoch 28/50\n",
            "28/28 [==============================] - 1s 49ms/step - loss: 0.7369 - accuracy: 0.6964 - val_loss: 1.5558 - val_accuracy: 0.1964\n",
            "Epoch 29/50\n",
            "28/28 [==============================] - 1s 50ms/step - loss: 0.7215 - accuracy: 0.7768 - val_loss: 1.5589 - val_accuracy: 0.1964\n",
            "Epoch 30/50\n",
            "28/28 [==============================] - 1s 48ms/step - loss: 0.7059 - accuracy: 0.7500 - val_loss: 1.6098 - val_accuracy: 0.1964\n",
            "Epoch 31/50\n",
            "28/28 [==============================] - 1s 49ms/step - loss: 0.6953 - accuracy: 0.8214 - val_loss: 1.6236 - val_accuracy: 0.1964\n",
            "Epoch 32/50\n",
            "28/28 [==============================] - 1s 47ms/step - loss: 0.7133 - accuracy: 0.7589 - val_loss: 1.6512 - val_accuracy: 0.1964\n",
            "Epoch 33/50\n",
            "28/28 [==============================] - 1s 49ms/step - loss: 0.6950 - accuracy: 0.7768 - val_loss: 1.6835 - val_accuracy: 0.1964\n",
            "Epoch 34/50\n",
            "28/28 [==============================] - 1s 47ms/step - loss: 0.6776 - accuracy: 0.7857 - val_loss: 1.6892 - val_accuracy: 0.1964\n",
            "Epoch 35/50\n",
            "28/28 [==============================] - 1s 49ms/step - loss: 0.7147 - accuracy: 0.7411 - val_loss: 1.7034 - val_accuracy: 0.1964\n",
            "Epoch 36/50\n",
            "28/28 [==============================] - 1s 48ms/step - loss: 0.6930 - accuracy: 0.7679 - val_loss: 1.7409 - val_accuracy: 0.1964\n",
            "Epoch 37/50\n",
            "28/28 [==============================] - 1s 49ms/step - loss: 0.7071 - accuracy: 0.7232 - val_loss: 1.7386 - val_accuracy: 0.1964\n",
            "Epoch 38/50\n",
            "28/28 [==============================] - 1s 47ms/step - loss: 0.6678 - accuracy: 0.7946 - val_loss: 1.7628 - val_accuracy: 0.1964\n",
            "Epoch 39/50\n",
            "28/28 [==============================] - 1s 48ms/step - loss: 0.6185 - accuracy: 0.8304 - val_loss: 1.8040 - val_accuracy: 0.2143\n",
            "Epoch 40/50\n",
            "28/28 [==============================] - 1s 48ms/step - loss: 0.6322 - accuracy: 0.8125 - val_loss: 1.8203 - val_accuracy: 0.1964\n",
            "Epoch 41/50\n",
            "28/28 [==============================] - 1s 46ms/step - loss: 0.6614 - accuracy: 0.7500 - val_loss: 1.8444 - val_accuracy: 0.1964\n",
            "Epoch 42/50\n",
            "28/28 [==============================] - 1s 47ms/step - loss: 0.6370 - accuracy: 0.7946 - val_loss: 1.8560 - val_accuracy: 0.1964\n",
            "Epoch 43/50\n",
            "28/28 [==============================] - 1s 52ms/step - loss: 0.6001 - accuracy: 0.8125 - val_loss: 1.8979 - val_accuracy: 0.1964\n",
            "Epoch 44/50\n",
            "28/28 [==============================] - 2s 58ms/step - loss: 0.6274 - accuracy: 0.7857 - val_loss: 1.9316 - val_accuracy: 0.2143\n",
            "Epoch 45/50\n",
            "28/28 [==============================] - 2s 55ms/step - loss: 0.5902 - accuracy: 0.8304 - val_loss: 1.9320 - val_accuracy: 0.2143\n",
            "Epoch 46/50\n",
            "28/28 [==============================] - 1s 47ms/step - loss: 0.5565 - accuracy: 0.7857 - val_loss: 1.9249 - val_accuracy: 0.1964\n",
            "Epoch 47/50\n",
            "28/28 [==============================] - 1s 46ms/step - loss: 0.5839 - accuracy: 0.7946 - val_loss: 1.9588 - val_accuracy: 0.1964\n",
            "Epoch 48/50\n",
            "28/28 [==============================] - 1s 48ms/step - loss: 0.5890 - accuracy: 0.8125 - val_loss: 1.9984 - val_accuracy: 0.1964\n",
            "Epoch 49/50\n",
            "28/28 [==============================] - 1s 47ms/step - loss: 0.5590 - accuracy: 0.8304 - val_loss: 2.0177 - val_accuracy: 0.1964\n",
            "Epoch 50/50\n",
            "28/28 [==============================] - 1s 46ms/step - loss: 0.5651 - accuracy: 0.8036 - val_loss: 2.0775 - val_accuracy: 0.1964\n"
          ]
        }
      ],
      "source": [
        "history = cnn_model.fit_generator(\n",
        "      train_generator,\n",
        "      steps_per_epoch= NUM_TRAIN //batch_size,\n",
        "      epochs=50,\n",
        "      validation_data=validation_generator,\n",
        "      validation_steps= NUM_TEST //batch_size,\n",
        "      verbose=1,\n",
        ")"
      ]
    },
    {
      "cell_type": "code",
      "execution_count": null,
      "metadata": {
        "colab": {
          "base_uri": "https://localhost:8080/",
          "height": 545
        },
        "id": "rNb1ZHAGnFNY",
        "outputId": "2cc0a895-e0b5-44f3-926e-b2de8281e4e4"
      },
      "outputs": [
        {
          "output_type": "display_data",
          "data": {
            "text/plain": [
              "<Figure size 432x288 with 1 Axes>"
            ],
            "image/png": "[encoded data removed]"
          },
          "metadata": {
            "needs_background": "light"
          }
        },
        {
          "output_type": "display_data",
          "data": {
            "text/plain": [
              "<Figure size 432x288 with 1 Axes>"
            ],
            "image/png": "[encoded data removed]"
          },
          "metadata": {
            "needs_background": "light"
          }
        }
      ],
      "source": [
        "acc = history.history['accuracy']\n",
        "val_acc = history.history['val_accuracy']\n",
        "loss = history.history['loss']\n",
        "val_loss = history.history['val_loss']\n",
        "\n",
        "epochs_x = range(len(acc))\n",
        "\n",
        "plt.plot(epochs_x, acc, 'bo', label='Training acc')\n",
        "plt.plot(epochs_x, val_acc, 'b', label='Validation acc')\n",
        "plt.title('Training and validation accuracy')\n",
        "plt.legend()\n",
        "\n",
        "plt.figure()\n",
        "\n",
        "plt.plot(epochs_x, loss, 'bo', label='Training loss')\n",
        "plt.plot(epochs_x, val_loss, 'b', label='Validation loss')\n",
        "plt.title('Training and validation loss')\n",
        "plt.legend()\n",
        "\n",
        "plt.show()"
      ]
    },
    {
      "cell_type": "code",
      "execution_count": null,
      "metadata": {
        "id": "Mp14Zgi2tVSP"
      },
      "outputs": [],
      "source": [
        "cnn_model.save('efficient2.h5')"
      ]
    },
    {
      "cell_type": "code",
      "execution_count": null,
      "metadata": {
        "id": "OFra1lExxmC1"
      },
      "outputs": [],
      "source": [
        "model  = load_model('/content/drive/MyDrive/Colab Notebooks/New folder (2)/efficient2.h5')"
      ]
    },
    {
      "cell_type": "code",
      "source": [
        "test_gen = test_datagen.flow_from_directory(\n",
        "        test_dir,\n",
        "        target_size=(img_h, img_w),\n",
        "        batch_size=batch_size,\n",
        "        class_mode='categorical',\n",
        "        shuffle=False)"
      ],
      "metadata": {
        "colab": {
          "base_uri": "https://localhost:8080/"
        },
        "id": "M175USaLDWqz",
        "outputId": "47b7cdd5-48f4-415f-bd1d-cb652d80a365"
      },
      "execution_count": null,
      "outputs": [
        {
          "output_type": "stream",
          "name": "stdout",
          "text": [
            "Found 34 images belonging to 3 classes.\n"
          ]
        }
      ]
    },
    {
      "cell_type": "code",
      "source": [
        "pred_t = cnn_model.predict(test_gen)"
      ],
      "metadata": {
        "colab": {
          "base_uri": "https://localhost:8080/"
        },
        "id": "YfL8bLEBDW_C",
        "outputId": "8a088db3-e3c2-4353-c8bd-36006d439969"
      },
      "execution_count": null,
      "outputs": [
        {
          "output_type": "stream",
          "name": "stdout",
          "text": [
            "9/9 [==============================] - 1s 30ms/step\n"
          ]
        }
      ]
    },
    {
      "cell_type": "code",
      "source": [
        "pred_t"
      ],
      "metadata": {
        "colab": {
          "base_uri": "https://localhost:8080/"
        },
        "id": "KbFmFkQGDwkD",
        "outputId": "c034ee09-200e-4891-854d-bc741deaab2d"
      },
      "execution_count": null,
      "outputs": [
        {
          "output_type": "execute_result",
          "data": {
            "text/plain": [
              "array([[0.18029141, 0.78516495, 0.0345436 ],\n",
              "       [0.23374774, 0.6894314 , 0.07682084],\n",
              "       [0.13844106, 0.7980479 , 0.06351106],\n",
              "       [0.22161582, 0.73778564, 0.04059849],\n",
              "       [0.28600588, 0.28065073, 0.43334332],\n",
              "       [0.12410937, 0.8492193 , 0.02667138],\n",
              "       [0.11148228, 0.84869117, 0.03982647],\n",
              "       [0.15022998, 0.78519005, 0.06457996],\n",
              "       [0.09733934, 0.81883407, 0.08382662],\n",
              "       [0.12644286, 0.7465758 , 0.12698139],\n",
              "       [0.17774688, 0.6419752 , 0.18027788],\n",
              "       [0.17373243, 0.6979966 , 0.128271  ],\n",
              "       [0.1677759 , 0.7055593 , 0.12666476],\n",
              "       [0.19176094, 0.55787367, 0.25036538],\n",
              "       [0.05177338, 0.9165097 , 0.03171691],\n",
              "       [0.1777473 , 0.5654586 , 0.25679415],\n",
              "       [0.06200368, 0.8905554 , 0.04744089],\n",
              "       [0.05630698, 0.89945847, 0.04423449],\n",
              "       [0.1467529 , 0.60258955, 0.25065756],\n",
              "       [0.05550034, 0.06240619, 0.8820934 ],\n",
              "       [0.05235654, 0.05333143, 0.89431196],\n",
              "       [0.05357097, 0.06197423, 0.8844548 ],\n",
              "       [0.11602194, 0.1043592 , 0.7796188 ],\n",
              "       [0.0643828 , 0.10026602, 0.83535117],\n",
              "       [0.05820111, 0.05694317, 0.8848558 ],\n",
              "       [0.04320762, 0.04482209, 0.91197026],\n",
              "       [0.04378231, 0.03942094, 0.9167968 ],\n",
              "       [0.06723997, 0.0570355 , 0.8757245 ],\n",
              "       [0.18518071, 0.13389793, 0.6809214 ],\n",
              "       [0.04840073, 0.04767673, 0.9039225 ],\n",
              "       [0.04485264, 0.04412491, 0.9110224 ],\n",
              "       [0.0436988 , 0.03620005, 0.9201011 ],\n",
              "       [0.05105761, 0.04677553, 0.90216684],\n",
              "       [0.06771589, 0.09141475, 0.8408693 ]], dtype=float32)"
            ]
          },
          "metadata": {},
          "execution_count": 78
        }
      ]
    },
    {
      "cell_type": "code",
      "source": [
        "pred_t.shape"
      ],
      "metadata": {
        "colab": {
          "base_uri": "https://localhost:8080/"
        },
        "id": "YEjsnb1wDwgC",
        "outputId": "62d2dbed-87aa-46fe-e8db-0bee6c19a0e0"
      },
      "execution_count": null,
      "outputs": [
        {
          "output_type": "execute_result",
          "data": {
            "text/plain": [
              "(34, 3)"
            ]
          },
          "metadata": {},
          "execution_count": 79
        }
      ]
    },
    {
      "cell_type": "code",
      "source": [
        "test_gen.labels"
      ],
      "metadata": {
        "colab": {
          "base_uri": "https://localhost:8080/"
        },
        "id": "v7TEAtNhDwbj",
        "outputId": "68bca963-c810-4900-bce8-a7612c9627b0"
      },
      "execution_count": null,
      "outputs": [
        {
          "output_type": "execute_result",
          "data": {
            "text/plain": [
              "array([0, 0, 0, 0, 0, 0, 1, 1, 1, 1, 1, 1, 1, 1, 1, 1, 1, 1, 1, 2, 2, 2,\n",
              "       2, 2, 2, 2, 2, 2, 2, 2, 2, 2, 2, 2], dtype=int32)"
            ]
          },
          "metadata": {},
          "execution_count": 80
        }
      ]
    },
    {
      "cell_type": "code",
      "source": [
        "test = []\n",
        "\n",
        "for i in pred_t:\n",
        "  test.append(np.argmax(i))\n",
        "\n",
        "test = np.asarray(test)"
      ],
      "metadata": {
        "id": "Seg3dZCnDwXs"
      },
      "execution_count": null,
      "outputs": []
    },
    {
      "cell_type": "code",
      "source": [
        "test"
      ],
      "metadata": {
        "colab": {
          "base_uri": "https://localhost:8080/"
        },
        "id": "mzSmMy-REKXT",
        "outputId": "16c78ac5-daf2-40ae-c6f4-20158c17fd35"
      },
      "execution_count": null,
      "outputs": [
        {
          "output_type": "execute_result",
          "data": {
            "text/plain": [
              "array([1, 1, 1, 1, 2, 1, 1, 1, 1, 1, 1, 1, 1, 1, 1, 1, 1, 1, 1, 2, 2, 2,\n",
              "       2, 2, 2, 2, 2, 2, 2, 2, 2, 2, 2, 2])"
            ]
          },
          "metadata": {},
          "execution_count": 82
        }
      ]
    },
    {
      "cell_type": "code",
      "source": [
        "from sklearn.metrics import confusion_matrix\n",
        "cm_1 = confusion_matrix(test_gen.labels, test)\n",
        "plt.figure(figsize = (7,7))\n",
        "sns.heatmap(cm_1, annot=True)"
      ],
      "metadata": {
        "colab": {
          "base_uri": "https://localhost:8080/",
          "height": 445
        },
        "id": "WtliLHebEKP1",
        "outputId": "c98b524c-35d8-43f5-df06-4df62f366e57"
      },
      "execution_count": null,
      "outputs": [
        {
          "output_type": "execute_result",
          "data": {
            "text/plain": [
              "<matplotlib.axes._subplots.AxesSubplot at 0x7fd0c45bd820>"
            ]
          },
          "metadata": {},
          "execution_count": 83
        },
        {
          "output_type": "display_data",
          "data": {
            "text/plain": [
              "<Figure size 504x504 with 2 Axes>"
            ],
            "image/png": "[encoded data removed]"
          },
          "metadata": {
            "needs_background": "light"
          }
        }
      ]
    },
    {
      "cell_type": "code",
      "source": [
        "test_gen.class_indices"
      ],
      "metadata": {
        "colab": {
          "base_uri": "https://localhost:8080/"
        },
        "id": "drNJMgbQEKJ8",
        "outputId": "779e5d8b-6ffc-4fb9-b0bd-fb030dcaf5a2"
      },
      "execution_count": null,
      "outputs": [
        {
          "output_type": "execute_result",
          "data": {
            "text/plain": [
              "{'continous': 0, 'more': 1, 'one': 2}"
            ]
          },
          "metadata": {},
          "execution_count": 69
        }
      ]
    },
    {
      "cell_type": "code",
      "source": [
        "from sklearn.metrics import classification_report\n",
        "\n",
        "report = classification_report(test_gen.labels, test, labels = [0,1,2])\n",
        "print(report)"
      ],
      "metadata": {
        "colab": {
          "base_uri": "https://localhost:8080/"
        },
        "id": "76cCmHPdSGVA",
        "outputId": "6f812d3e-f732-4650-d6bb-ba4cdf849274"
      },
      "execution_count": null,
      "outputs": [
        {
          "output_type": "stream",
          "name": "stdout",
          "text": [
            "              precision    recall  f1-score   support\n",
            "\n",
            "           0       0.25      0.17      0.20         6\n",
            "           1       0.64      0.69      0.67        13\n",
            "           2       0.94      1.00      0.97        15\n",
            "\n",
            "    accuracy                           0.74        34\n",
            "   macro avg       0.61      0.62      0.61        34\n",
            "weighted avg       0.70      0.74      0.72        34\n",
            "\n"
          ]
        }
      ]
    },
    {
      "cell_type": "code",
      "execution_count": null,
      "metadata": {
        "colab": {
          "base_uri": "https://localhost:8080/",
          "height": 35
        },
        "id": "Z4p29fm-mVX3",
        "outputId": "1623d45b-6e6b-43ff-edc9-130d6de4393e"
      },
      "outputs": [
        {
          "output_type": "execute_result",
          "data": {
            "text/plain": [
              "'/content/drive/MyDrive/Colab Notebooks/New folder (2)/thermal_DS/test/more/182.png'"
            ],
            "application/vnd.google.colaboratory.intrinsic+json": {
              "type": "string"
            }
          },
          "metadata": {},
          "execution_count": 207
        }
      ],
      "source": [
        "test_dir = '/content/drive/MyDrive/Colab Notebooks/New folder (2)/thermal_DS/test'\n",
        "test_imgs = []\n",
        "for path, subdirs, files in os.walk(test_dir):\n",
        "    for name in files:\n",
        "        test_imgs.append(os.path.join(path, name))\n",
        "random_test_image = random.choice(test_imgs)\n",
        "random_test_image"
      ]
    },
    {
      "cell_type": "code",
      "execution_count": null,
      "metadata": {
        "colab": {
          "base_uri": "https://localhost:8080/",
          "height": 273
        },
        "id": "_PrI4AfemVdS",
        "outputId": "732bf87d-ac02-4e57-bff5-d516cd41dc3e"
      },
      "outputs": [
        {
          "output_type": "execute_result",
          "data": {
            "image/png": "[encoded data removed]",
            "text/plain": [
              "<IPython.core.display.Image object>"
            ]
          },
          "metadata": {},
          "execution_count": 156
        }
      ],
      "source": [
        "Image(filename=random_test_image)"
      ]
    },
    {
      "cell_type": "code",
      "execution_count": null,
      "metadata": {
        "colab": {
          "base_uri": "https://localhost:8080/"
        },
        "id": "zIOwWU4emViD",
        "outputId": "79bfae28-c369-48b2-c3ef-513d1324ece9"
      },
      "outputs": [
        {
          "output_type": "stream",
          "name": "stdout",
          "text": [
            "1/1 [==============================] - 0s 28ms/step\n",
            "1/1 [==============================] - 0s 27ms/step\n",
            "[[0.5329781  0.27418914 0.19283275]]\n",
            "('continous', 0.5329781, array([[0.5329781 , 0.27418914, 0.19283275]], dtype=float32))\n"
          ]
        }
      ],
      "source": [
        "#recover class names from the train dataset generator\n",
        "class_lookup = dict((y,x) for x,y in train_generator.class_indices.items())\n",
        "\n",
        "def predict_image(img_path, class_lookup):\n",
        "    # Read the image and resize it\n",
        "    img = image.load_img(img_path, target_size=(224, 224))\n",
        "    # Convert it to a Numpy array with target shape.\n",
        "    x = image.img_to_array(img)\n",
        "    # Reshape\n",
        "    x = x.reshape((1,) + x.shape)\n",
        "    x /= 255.\n",
        "    result = model.predict([x])[0][0]\n",
        "    result_verbose = model.predict([x])\n",
        "    print(result_verbose)\n",
        "    predicted_class = class_lookup[np.argmax(result_verbose, axis=1)[0]]\n",
        "    predicted_probability = result_verbose[0][np.argmax(result_verbose, axis=1)[0]]\n",
        "\n",
        "    return predicted_class ,predicted_probability, result_verbose\n",
        "\n",
        "print(predict_image(random_test_image, class_lookup))"
      ]
    },
    {
      "cell_type": "code",
      "source": [],
      "metadata": {
        "id": "_oPfqyYeUBuj"
      },
      "execution_count": null,
      "outputs": []
    },
    {
      "cell_type": "code",
      "source": [],
      "metadata": {
        "id": "_yamJKIYUBpz"
      },
      "execution_count": null,
      "outputs": []
    },
    {
      "cell_type": "code",
      "source": [],
      "metadata": {
        "id": "NBouVNHiUBlR"
      },
      "execution_count": null,
      "outputs": []
    },
    {
      "cell_type": "markdown",
      "source": [
        "here the code of remove all image except the number which u want"
      ],
      "metadata": {
        "id": "8Yf317E6UCr2"
      }
    },
    {
      "cell_type": "code",
      "execution_count": null,
      "metadata": {
        "id": "i39bfjyTmVn_"
      },
      "outputs": [],
      "source": [
        "# train_dir = '/content/drive/MyDrive/Colab Notebooks/New folder (2)/thermal_DS/train'\n",
        "# valid_dir = '/content/drive/MyDrive/Colab Notebooks/New folder (2)/thermal_DS/val'\n",
        "# test_dir = '/content/drive/MyDrive/Colab Notebooks/New folder (2)/thermal_DS/test'\n"
      ]
    },
    {
      "cell_type": "code",
      "execution_count": null,
      "metadata": {
        "id": "N0U7aT7PmVu7"
      },
      "outputs": [],
      "source": [
        "# import os\n",
        "# import random\n",
        "# def delete_all_but(split_path, number):\n",
        "#   images = []\n",
        "#   for path, subdirs, files in os.walk(split_path):\n",
        "#       for name in files:\n",
        "#           images.append(os.path.join(path, name))\n",
        "#   if len(images) > number:\n",
        "#     keep = random.sample(images, number)\n",
        "#     for img in images:\n",
        "#       if img not in keep:\n",
        "#         os.remove(img)\n",
        "#   return None\n",
        "\n",
        "# # the function calling\n",
        "# delete_all_but(train_dir, 25)\n",
        "# delete_all_but(valid_dir, 25)\n",
        "# delete_all_but(test_dir, 25)\n"
      ]
    }
  ],
  "metadata": {
    "accelerator": "GPU",
    "colab": {
      "provenance": []
    },
    "kernelspec": {
      "display_name": "Python 3",
      "name": "python3"
    },
    "language_info": {
      "name": "python"
    }
  },
  "nbformat": 4,
  "nbformat_minor": 0
}